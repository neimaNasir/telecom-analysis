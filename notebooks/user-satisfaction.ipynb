{
 "cells": [
  {
   "cell_type": "code",
   "execution_count": 28,
   "metadata": {},
   "outputs": [],
   "source": [
    "import pandas as pd\n",
    "import numpy as np\n",
    "import matplotlib.pyplot as plt\n",
    "import seaborn as sns\n",
    "from sklearn.decomposition import PCA\n",
    "from sqlalchemy import create_engine\n",
    "from dotenv import load_dotenv\n",
    "from sklearn.cluster import KMeans\n",
    "import os"
   ]
  },
  {
   "cell_type": "code",
   "execution_count": 29,
   "metadata": {},
   "outputs": [
    {
     "data": {
      "text/plain": [
       "True"
      ]
     },
     "execution_count": 29,
     "metadata": {},
     "output_type": "execute_result"
    }
   ],
   "source": [
    "load_dotenv('../.venv/.env')"
   ]
  },
  {
   "cell_type": "code",
   "execution_count": 30,
   "metadata": {},
   "outputs": [],
   "source": [
    "db_user = os.getenv('DB_USER')\n",
    "db_password = os.getenv('DB_PASSWORD')\n",
    "db_host = os.getenv('DB_HOST')\n",
    "db_port = os.getenv('DB_PORT')\n",
    "db_name = os.getenv('DB_NAME')\n",
    "table_name = 'xdr_data'"
   ]
  },
  {
   "cell_type": "code",
   "execution_count": 31,
   "metadata": {},
   "outputs": [],
   "source": [
    "connection_string = f'postgresql+psycopg2://{db_user}:{db_password}@{db_host}:{db_port}/{db_name}'\n",
    "engine = create_engine(connection_string)"
   ]
  },
  {
   "cell_type": "code",
   "execution_count": 32,
   "metadata": {},
   "outputs": [],
   "source": [
    "query = 'SELECT * FROM xdr_data'\n",
    "data = pd.read_sql(query, engine)"
   ]
  },
  {
   "cell_type": "code",
   "execution_count": 33,
   "metadata": {},
   "outputs": [
    {
     "name": "stdout",
     "output_type": "stream",
     "text": [
      "<bound method NDFrame.head of            Bearer Id            Start  Start ms              End     End ms  \\\n",
      "0       1.311448e+19   4/4/2019 12:01  770.0000  4/25/2019 14:35  662.00000   \n",
      "1       1.311448e+19   4/9/2019 13:04  235.0000   4/25/2019 8:15  606.00000   \n",
      "2       1.311448e+19   4/9/2019 17:42    1.0000  4/25/2019 11:58  652.00000   \n",
      "3       1.311448e+19   4/10/2019 0:31  486.0000   4/25/2019 7:36  171.00000   \n",
      "4       1.311448e+19  4/12/2019 20:10  565.0000  4/25/2019 10:40  954.00000   \n",
      "...              ...              ...       ...              ...        ...   \n",
      "149996  7.277826e+18   4/29/2019 7:28  451.0000   4/30/2019 6:02  214.00000   \n",
      "149997  7.349883e+18   4/29/2019 7:28  483.0000  4/30/2019 10:41  187.00000   \n",
      "149998  1.311448e+19   4/29/2019 7:28  283.0000  4/30/2019 10:46  810.00000   \n",
      "149999  1.311448e+19   4/29/2019 7:28  696.0000  4/30/2019 10:40  327.00000   \n",
      "150000  1.013887e+19              N/A  499.1882              N/A  498.80088   \n",
      "\n",
      "           Dur. (ms)          IMSI  MSISDN/Number          IMEI  \\\n",
      "0       1.823652e+06  2.082014e+14   3.366496e+10  3.552121e+13   \n",
      "1       1.365104e+06  2.082019e+14   3.368185e+10  3.579401e+13   \n",
      "2       1.361762e+06  2.082003e+14   3.376063e+10  3.528151e+13   \n",
      "3       1.321509e+06  2.082014e+14   3.375034e+10  3.535661e+13   \n",
      "4       1.089009e+06  2.082014e+14   3.369980e+10  3.540701e+13   \n",
      "...              ...           ...            ...           ...   \n",
      "149996  8.123000e+04  2.082022e+14   3.365069e+10  3.548311e+13   \n",
      "149997  9.797000e+04  2.082019e+14   3.366345e+10  3.566051e+13   \n",
      "149998  9.824900e+04  2.082017e+14   3.362189e+10  3.572121e+13   \n",
      "149999  9.791000e+04  2.082021e+14   3.361962e+10  8.618620e+13   \n",
      "150000  1.046086e+05  2.082016e+14   4.188282e+10  4.847455e+13   \n",
      "\n",
      "           Last Location Name  ...  Youtube DL (Bytes)  Youtube UL (Bytes)  \\\n",
      "0       9.16456699548519E+015  ...        1.585461e+07        2.501332e+06   \n",
      "1                     L77566A  ...        2.024740e+07        1.911173e+07   \n",
      "2                     D42335A  ...        1.972566e+07        1.469958e+07   \n",
      "3                     T21824A  ...        2.138812e+07        1.514664e+07   \n",
      "4                     D88865A  ...        1.525938e+07        1.896287e+07   \n",
      "...                       ...  ...                 ...                 ...   \n",
      "149996                D20434A  ...        1.619167e+07        1.176343e+07   \n",
      "149997                D10223C  ...        1.387723e+07        8.288284e+06   \n",
      "149998                T51102A  ...        2.266051e+07        1.855903e+06   \n",
      "149999                L88342B  ...        8.817106e+06        8.305402e+06   \n",
      "150000                    N/A  ...        1.163407e+07        1.100941e+07   \n",
      "\n",
      "        Netflix DL (Bytes)  Netflix UL (Bytes)  Gaming DL (Bytes)  \\\n",
      "0             8.198936e+06        9.656251e+06       2.780823e+08   \n",
      "1             1.833841e+07        1.722713e+07       6.087501e+08   \n",
      "2             1.758779e+07        6.163408e+06       2.295846e+08   \n",
      "3             1.399465e+07        1.097942e+06       7.995382e+08   \n",
      "4             1.712458e+07        4.152180e+05       5.277072e+08   \n",
      "...                    ...                 ...                ...   \n",
      "149996        1.788370e+07        1.967816e+07       5.266097e+08   \n",
      "149997        1.935015e+07        2.129315e+07       6.268931e+08   \n",
      "149998        9.963942e+06        5.065760e+06       5.535395e+08   \n",
      "149999        3.322253e+06        1.317259e+07       3.525370e+08   \n",
      "150000        1.162685e+07        1.100175e+07       4.220447e+08   \n",
      "\n",
      "        Gaming UL (Bytes)  Other DL (Bytes)  Other UL (Bytes)  \\\n",
      "0            1.434415e+07      1.717444e+08      8.814393e+06   \n",
      "1            1.170709e+06      5.269042e+08      1.505514e+07   \n",
      "2            3.956300e+05      4.106926e+08      4.215763e+06   \n",
      "3            1.084972e+07      7.490399e+08      1.279728e+07   \n",
      "4            3.529801e+06      5.507095e+08      1.391032e+07   \n",
      "...                   ...               ...               ...   \n",
      "149996       9.197207e+06      3.264510e+06      1.348742e+07   \n",
      "149997       4.735033e+06      7.121804e+08      2.457758e+06   \n",
      "149998       1.339432e+07      1.211009e+08      1.131473e+07   \n",
      "149999       2.529475e+06      8.147131e+08      1.406930e+06   \n",
      "150000       8.288398e+06      4.211005e+08      8.264799e+06   \n",
      "\n",
      "        Total UL (Bytes)  Total DL (Bytes)  \n",
      "0           3.674974e+07      3.088796e+08  \n",
      "1           5.380039e+07      6.533850e+08  \n",
      "2           2.788364e+07      2.798073e+08  \n",
      "3           4.332422e+07      8.460285e+08  \n",
      "4           3.854281e+07      5.691386e+08  \n",
      "...                  ...               ...  \n",
      "149996      5.762885e+07      5.741753e+08  \n",
      "149997      3.913508e+07      6.666488e+08  \n",
      "149998      3.491222e+07      5.927864e+08  \n",
      "149999      2.962610e+07      3.718959e+08  \n",
      "150000      4.112121e+07      4.546434e+08  \n",
      "\n",
      "[150001 rows x 55 columns]>\n"
     ]
    }
   ],
   "source": [
    "print(data.head)"
   ]
  },
  {
   "cell_type": "markdown",
   "metadata": {},
   "source": []
  },
  {
   "cell_type": "code",
   "execution_count": 34,
   "metadata": {},
   "outputs": [],
   "source": [
    "# Handle outliers\n",
    "for col in ['TCP DL Retrans. Vol (Bytes)', 'TCP UL Retrans. Vol (Bytes)', 'Avg RTT DL (ms)', 'Avg RTT UL (ms)', 'Avg Bearer TP DL (kbps)', 'Avg Bearer TP UL (kbps)']:\n",
    "    Q1 = data[col].quantile(0.25)\n",
    "    Q3 = data[col].quantile(0.75)\n",
    "    IQR = Q3 - Q1\n",
    "    lower_bound = Q1 - 1.5 * IQR\n",
    "    upper_bound = Q3 + 1.5 * IQR\n",
    "    data[col] = np.where(data[col] < lower_bound, data[col].mean(), data[col])\n",
    "    data[col] = np.where(data[col] > upper_bound, data[col].mean(), data[col])\n",
    "\n",
    "# Aggregate per customer\n",
    "agg_df = data.groupby('IMSI').agg({\n",
    "    'TCP DL Retrans. Vol (Bytes)': 'mean',\n",
    "    'TCP UL Retrans. Vol (Bytes)': 'mean',\n",
    "    'Avg RTT DL (ms)': 'mean',\n",
    "    'Avg RTT UL (ms)': 'mean',\n",
    "    'Avg Bearer TP DL (kbps)': 'mean',\n",
    "    'Avg Bearer TP UL (kbps)': 'mean',\n",
    "    'Handset Type': lambda x: x.mode()[0]\n",
    "}).reset_index()\n",
    "\n",
    "# Calculate total TCP retransmission, RTT, and throughput\n",
    "agg_df['total_tcp'] = (agg_df['TCP DL Retrans. Vol (Bytes)'] + agg_df['TCP UL Retrans. Vol (Bytes)'])\n",
    "agg_df['total_rtt'] = (agg_df['Avg RTT DL (ms)'] + agg_df['Avg RTT UL (ms)'])\n",
    "agg_df['total_throughput'] = (agg_df['Avg Bearer TP DL (kbps)'] + agg_df['Avg Bearer TP UL (kbps)'])\n",
    "\n",
    "# Drop the intermediary columns\n",
    "agg_df = agg_df.drop(columns=[\n",
    "    'TCP DL Retrans. Vol (Bytes)',\n",
    "    'TCP UL Retrans. Vol (Bytes)',\n",
    "    'Avg RTT DL (ms)',\n",
    "    'Avg RTT UL (ms)',\n",
    "    'Avg Bearer TP DL (kbps)',\n",
    "    'Avg Bearer TP UL (kbps)'\n",
    "])"
   ]
  },
  {
   "cell_type": "markdown",
   "metadata": {},
   "source": [
    "**Cluster**"
   ]
  },
  {
   "cell_type": "code",
   "execution_count": 35,
   "metadata": {},
   "outputs": [
    {
     "name": "stdout",
     "output_type": "stream",
     "text": [
      "      total_tcp  total_rtt  total_throughput\n",
      "0  2.169953e+07  74.705766       1861.692290\n",
      "1  1.205007e+06  85.364916      17428.910921\n",
      "2  1.144526e+07  76.380355      12764.432642\n"
     ]
    }
   ],
   "source": [
    "from sklearn.cluster import KMeans\n",
    "import pandas as pd\n",
    "\n",
    "X = agg_df[['total_tcp', 'total_rtt', 'total_throughput']]\n",
    "\n",
    "kmeans = KMeans(n_clusters=3, random_state=42)\n",
    "kmeans.fit(X)\n",
    "\n",
    "# Get cluster centers\n",
    "cluster_centers = kmeans.cluster_centers_\n",
    "\n",
    "# Create a DataFrame for the cluster centers\n",
    "cluster_description = pd.DataFrame(cluster_centers, columns=['total_tcp', 'total_rtt', 'total_throughput'])\n",
    "\n",
    "# View the cluster centers to identify \"less engaged\" and \"worst experience\" clusters\n",
    "print(cluster_description)\n"
   ]
  },
  {
   "cell_type": "markdown",
   "metadata": {},
   "source": [
    "**Engagement and Experience Scores (Euclidean Distance)**"
   ]
  },
  {
   "cell_type": "code",
   "execution_count": 36,
   "metadata": {},
   "outputs": [
    {
     "name": "stdout",
     "output_type": "stream",
     "text": [
      "           IMSI  engagement_score  experience_score\n",
      "0  2.040471e+14      1.299680e+05      1.012432e+07\n",
      "1  2.040808e+14      1.299681e+05      1.012432e+07\n",
      "2  2.082001e+14      2.093717e+07      1.068291e+07\n",
      "3  2.082001e+14      2.167155e+07      1.141729e+07\n",
      "4  2.082001e+14      1.299669e+05      1.012432e+07\n"
     ]
    }
   ],
   "source": [
    "from scipy.spatial.distance import euclidean\n",
    "\n",
    "# Assign engagement and experience cluster centroids\n",
    "engagement_centroid = cluster_description.loc[0, ['total_tcp', 'total_rtt', 'total_throughput']]\n",
    "experience_centroid = cluster_description.loc[2, ['total_tcp', 'total_rtt', 'total_throughput']]\n",
    "\n",
    "# Function to calculate Euclidean distance\n",
    "def calculate_scores(row, centroid):\n",
    "    return euclidean(row[['total_tcp', 'total_rtt', 'total_throughput']], centroid)\n",
    "\n",
    "# Calculate engagement and experience scores\n",
    "agg_df['engagement_score'] = agg_df.apply(lambda row: calculate_scores(row, engagement_centroid), axis=1)\n",
    "agg_df['experience_score'] = agg_df.apply(lambda row: calculate_scores(row, experience_centroid), axis=1)\n",
    "\n",
    "# Display engagement and experience scores\n",
    "print(agg_df[['IMSI', 'engagement_score', 'experience_score']].head())\n"
   ]
  },
  {
   "cell_type": "markdown",
   "metadata": {},
   "source": [
    "**Satisfaction Score andTop 10 Satisfied Customers**"
   ]
  },
  {
   "cell_type": "code",
   "execution_count": 37,
   "metadata": {},
   "outputs": [
    {
     "name": "stdout",
     "output_type": "stream",
     "text": [
      "           IMSI  satisfaction_score\n",
      "0  2.040471e+14        5.127144e+06\n",
      "1  2.040808e+14        5.127144e+06\n",
      "2  2.082001e+14        1.581004e+07\n",
      "3  2.082001e+14        1.654442e+07\n",
      "4  2.082001e+14        5.127143e+06\n"
     ]
    }
   ],
   "source": [
    "# Calculate satisfaction score as the average of engagement and experience scores\n",
    "agg_df['satisfaction_score'] = (agg_df['engagement_score'] + agg_df['experience_score']) / 2\n",
    "\n",
    "# Display satisfaction scores\n",
    "print(agg_df[['IMSI', 'satisfaction_score']].head())\n",
    "\n",
    "# Sort users by satisfaction score in descending order and get the top 10\n",
    "top_10_satisfied_customers = agg_df[['IMSI', 'satisfaction_score']].sort_values(by='satisfaction_score', ascending=False).head(10)"
   ]
  },
  {
   "cell_type": "code",
   "execution_count": 38,
   "metadata": {},
   "outputs": [
    {
     "name": "stdout",
     "output_type": "stream",
     "text": [
      "                IMSI  satisfaction_score\n",
      "58929   2.082017e+14        3.403246e+07\n",
      "7080    2.082003e+14        3.374560e+07\n",
      "81736   2.082018e+14        3.368701e+07\n",
      "81285   2.082018e+14        3.359533e+07\n",
      "100291  2.082021e+14        3.356362e+07\n",
      "81247   2.082018e+14        3.356104e+07\n",
      "59500   2.082017e+14        3.351541e+07\n",
      "46558   2.082015e+14        3.346670e+07\n",
      "30893   2.082014e+14        3.343167e+07\n",
      "640     2.082003e+14        3.327047e+07\n"
     ]
    }
   ],
   "source": [
    "# Display the top 10 satisfied customers\n",
    "print(top_10_satisfied_customers)"
   ]
  },
  {
   "cell_type": "code",
   "execution_count": 55,
   "metadata": {},
   "outputs": [
    {
     "data": {
      "image/png": "[encoded data removed]",
      "text/plain": [
       "<Figure size 640x480 with 1 Axes>"
      ]
     },
     "metadata": {},
     "output_type": "display_data"
    }
   ],
   "source": [
    "import seaborn as sns\n",
    "import matplotlib.pyplot as plt\n",
    "\n",
    "# Define the IMSI and satisfaction scores\n",
    "imsi = [58929, 7080, 81736, 81285, 100291, 81247, 59500, 46558, 30893, 640]\n",
    "satisfaction_scores = [3.403246e+07, 3.374560e+07, 3.368701e+07, 3.359533e+07, 3.356362e+07, 3.356104e+07, 3.351541e+07, 3.346670e+07, 3.343167e+07, 3.327047e+07]\n",
    "\n",
    "# Create a seaborn barplot\n",
    "sns.barplot(x=imsi, y=satisfaction_scores)\n",
    "plt.xlabel('IMSI')\n",
    "plt.ylabel('Satisfaction Score')\n",
    "plt.title('Top 10 Satisfied Customers')\n",
    "plt.show()\n",
    "\n"
   ]
  },
  {
   "cell_type": "markdown",
   "metadata": {},
   "source": [
    "**Build a Regression Model to Predict Satisfaction Score**"
   ]
  },
  {
   "cell_type": "code",
   "execution_count": 61,
   "metadata": {},
   "outputs": [
    {
     "name": "stdout",
     "output_type": "stream",
     "text": [
      "Mean Squared Error: 2.4262711028758966e-15\n"
     ]
    },
    {
     "data": {
      "text/plain": [
       "['satisfaction_model.pkl']"
      ]
     },
     "execution_count": 61,
     "metadata": {},
     "output_type": "execute_result"
    }
   ],
   "source": [
    "from sklearn.linear_model import LinearRegression\n",
    "from sklearn.model_selection import train_test_split\n",
    "from sklearn.metrics import mean_squared_error\n",
    "\n",
    "# Prepare data\n",
    "X = agg_df[['engagement_score', 'experience_score']]\n",
    "y = agg_df['satisfaction_score']\n",
    "X_train, X_test, y_train, y_test = train_test_split(X, y, test_size=0.2, random_state=0)\n",
    "\n",
    "# Train model\n",
    "model = LinearRegression()\n",
    "model.fit(X_train, y_train)\n",
    "\n",
    "# Predict\n",
    "y_pred = model.predict(X_test)\n",
    "\n",
    "# Evaluate\n",
    "mse = mean_squared_error(y_test, y_pred)\n",
    "print(f\"Mean Squared Error: {mse}\")\n",
    "\n",
    "# Save model\n",
    "import joblib\n",
    "joblib.dump(model, 'satisfaction_model.pkl')"
   ]
  },
  {
   "cell_type": "markdown",
   "metadata": {},
   "source": [
    "**K-Means Clustering on Engagement and Experience Scores**"
   ]
  },
  {
   "cell_type": "code",
   "execution_count": 40,
   "metadata": {},
   "outputs": [
    {
     "name": "stdout",
     "output_type": "stream",
     "text": [
      "           IMSI  kmeans_cluster\n",
      "0  2.040471e+14               0\n",
      "1  2.040808e+14               0\n",
      "2  2.082001e+14               1\n",
      "3  2.082001e+14               1\n",
      "4  2.082001e+14               0\n"
     ]
    }
   ],
   "source": [
    "X_kmeans = agg_df[['engagement_score', 'experience_score']]\n",
    "\n",
    "# Run KMeans clustering with k=2\n",
    "kmeans_2 = KMeans(n_clusters=2, random_state=42)\n",
    "agg_df['kmeans_cluster'] = kmeans_2.fit_predict(X_kmeans)\n",
    "\n",
    "print(agg_df[['IMSI', 'kmeans_cluster']].head())\n"
   ]
  },
  {
   "cell_type": "code",
   "execution_count": 57,
   "metadata": {},
   "outputs": [
    {
     "name": "stdout",
     "output_type": "stream",
     "text": [
      "                engagement_score  experience_score\n",
      "kmeans_cluster                                    \n",
      "0                   6.123611e+05      9.796971e+06\n",
      "1                   1.742301e+07      7.515615e+06\n"
     ]
    }
   ],
   "source": [
    "# calculate cluster statistics\n",
    "import pandas as pd\n",
    "cluster_stats = agg_df.groupby('kmeans_cluster')[['engagement_score', 'experience_score']].mean()\n",
    "print(cluster_stats)"
   ]
  },
  {
   "cell_type": "markdown",
   "metadata": {},
   "source": [
    "**Aggregate Average Satisfaction and Experience Scores per Cluster**"
   ]
  },
  {
   "cell_type": "code",
   "execution_count": 42,
   "metadata": {},
   "outputs": [
    {
     "name": "stdout",
     "output_type": "stream",
     "text": [
      "                satisfaction_score  experience_score\n",
      "kmeans_cluster                                      \n",
      "0                     5.204666e+06      9.796971e+06\n",
      "1                     1.246931e+07      7.515615e+06\n"
     ]
    }
   ],
   "source": [
    "cluster_agg = agg_df.groupby('kmeans_cluster')[['satisfaction_score', 'experience_score']].mean()\n",
    "\n",
    "print(cluster_agg)\n"
   ]
  },
  {
   "cell_type": "markdown",
   "metadata": {},
   "source": [
    "**Export to Postgres DB**"
   ]
  },
  {
   "cell_type": "code",
   "execution_count": 63,
   "metadata": {},
   "outputs": [
    {
     "name": "stdout",
     "output_type": "stream",
     "text": [
      "(204047108489451, 129968.04258323665, 10124319.290019833, 5127143.6663015345)\n",
      "(204080810288647, 129968.05689592577, 10124319.291280454, 5127143.67408819)\n",
      "(208200101016140, 20937172.06993773, 10682913.520634435, 15810042.795286082)\n",
      "(208200101127285, 21671548.689636376, 11417289.006447075, 16544418.848041724)\n",
      "(208200101148045, 129966.93348582451, 10124319.191252466, 5127143.062369145)\n",
      "(208200101148074, 129967.61677964486, 10124319.252247123, 5127143.434513384)\n",
      "(208200101148075, 129966.90651131945, 10124319.188758623, 5127143.047634971)\n",
      "(208200101148136, 10331094.362011045, 77614.19941899911, 5204354.280715022)\n",
      "(208200101148139, 21008299.326391716, 10754029.135384595, 15881164.230888154)\n",
      "(208200101148152, 129966.73500976048, 10124319.172025776, 5127142.953517768)\n"
     ]
    }
   ],
   "source": [
    "import pandas as pd\n",
    "from sqlalchemy import create_engine, text\n",
    "from sqlalchemy.types import BigInteger, Float\n",
    "import os\n",
    "\n",
    "db_user = os.getenv('DB_USER')\n",
    "db_password = os.getenv('DB_PASSWORD')\n",
    "db_host = os.getenv('DB_HOST')\n",
    "db_port = os.getenv('DB_PORT')\n",
    "db_name = os.getenv('DB_NAME')\n",
    "\n",
    "connection_string = f'postgresql+psycopg2://{db_user}:{db_password}@{db_host}:{db_port}/{db_name}'\n",
    "engine = create_engine(connection_string)\n",
    "\n",
    "\n",
    "agg_df = pd.DataFrame({\n",
    "    'IMSI': [204047108489451, 204080810288647, 208200101016140, 208200101127285, 208200101148045, 208200101148074, 208200101148075, 208200101148136, 208200101148139, 208200101148152],\n",
    "    'engagement_score': [129968.04258323665, 129968.05689592577, 20937172.06993773, 21671548.689636376, 129966.93348582451, 129967.61677964486, 129966.90651131945, 10331094.362011045, 21008299.326391716, 129966.73500976048],\n",
    "    'experience_score': [10124319.290019833, 10124319.291280454, 10682913.520634435, 11417289.006447075, 10124319.191252466, 10124319.252247123, 10124319.188758623, 77614.19941899911, 10754029.135384595, 10124319.172025776],\n",
    "    'satisfaction_score': [5127143.6663015345, 5127143.67408819, 15810042.795286082, 16544418.848041724, 5127143.062369145, 5127143.434513384, 5127143.047634971, 5204354.280715022, 15881164.230888154, 5127142.953517768]\n",
    "})\n",
    "\n",
    "# Insert the DataFrame into the PostgreSQL table\n",
    "agg_df[['IMSI', 'engagement_score', 'experience_score', 'satisfaction_score']].to_sql(\n",
    "    'customer_scores', \n",
    "    engine, \n",
    "    if_exists='replace',  \n",
    "    index=False,  \n",
    "    dtype={\n",
    "        'IMSI': BigInteger(), \n",
    "        'engagement_score': Float(), \n",
    "        'experience_score': Float(),\n",
    "        'satisfaction_score': Float()\n",
    "    }\n",
    ")\n",
    "\n",
    "# Verify the inserted data\n",
    "with engine.connect() as connection:\n",
    "    result = connection.execute(text(\"SELECT * FROM customer_scores LIMIT 10\")).fetchall()\n",
    "    for row in result:\n",
    "        print(row)"
   ]
  },
  {
   "cell_type": "code",
   "execution_count": 25,
   "metadata": {},
   "outputs": [],
   "source": [
    "# Query for data and create a DataFrame for visualization\n",
    "with engine.connect() as connection:\n",
    "    query = text(\"SELECT * FROM customer_scores\")\n",
    "    df = pd.read_sql(query, connection)"
   ]
  },
  {
   "cell_type": "markdown",
   "metadata": {},
   "source": [
    "**Model Deployment**"
   ]
  },
  {
   "cell_type": "code",
   "execution_count": 52,
   "metadata": {},
   "outputs": [
    {
     "name": "stderr",
     "output_type": "stream",
     "text": [
      "2024/09/11 10:45:58 WARNING mlflow.models.model: Model logged without a signature and input example. Please set `input_example` parameter when logging the model to auto infer the model signature.\n"
     ]
    }
   ],
   "source": [
    "import mlflow\n",
    "\n",
    "import mlflow\n",
    "from sklearn.linear_model import LinearRegression\n",
    "from sklearn.model_selection import train_test_split\n",
    "from sklearn.metrics import mean_squared_error\n",
    "\n",
    "def train_and_log_model(engagement, experience, satisfaction):\n",
    "    \"\"\"Trains a linear regression model and logs metrics and artifacts to MLflow.\"\"\"\n",
    "\n",
    "    with mlflow.start_run():\n",
    "\n",
    "        mlflow.log_param(\"model_type\", \"linear_regression\")\n",
    "        mlflow.log_param(\"test_size\", 0.2)\n",
    "\n",
    "        X = agg_df[['engagement_score', 'experience_score']]\n",
    "\n",
    "        X_train, X_test, y_train, y_test = train_test_split(\n",
    "            X, satisfaction, test_size=0.2, random_state=0\n",
    "        )\n",
    "\n",
    "        model = LinearRegression()\n",
    "        model.fit(X_train, y_train)\n",
    "\n",
    "        y_pred = model.predict(X_test)\n",
    "        mse = mean_squared_error(y_test, y_pred)\n",
    "\n",
    "        mlflow.log_metric(\"mse\", mse)\n",
    "\n",
    "        mlflow.sklearn.log_model(model, \"linear_regression_model\")\n",
    "\n",
    "train_and_log_model(agg_df[['engagement_score']], agg_df[['experience_score']], agg_df['satisfaction_score'])"
   ]
  }
 ],
 "metadata": {
  "kernelspec": {
   "display_name": ".venv",
   "language": "python",
   "name": "python3"
  },
  "language_info": {
   "codemirror_mode": {
    "name": "ipython",
    "version": 3
   },
   "file_extension": ".py",
   "mimetype": "text/x-python",
   "name": "python",
   "nbconvert_exporter": "python",
   "pygments_lexer": "ipython3",
   "version": "3.12.5"
  }
 },
 "nbformat": 4,
 "nbformat_minor": 2
}
