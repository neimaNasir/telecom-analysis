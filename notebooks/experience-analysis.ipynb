{
 "cells": [
  {
   "cell_type": "code",
   "execution_count": 17,
   "metadata": {},
   "outputs": [],
   "source": [
    "import pandas as pd\n",
    "import numpy as np\n",
    "import matplotlib.pyplot as plt\n",
    "import seaborn as sns\n",
    "from sklearn.decomposition import PCA\n",
    "from sqlalchemy import create_engine\n",
    "from dotenv import load_dotenv\n",
    "from sklearn.cluster import KMeans\n",
    "import os"
   ]
  },
  {
   "cell_type": "code",
   "execution_count": 2,
   "metadata": {},
   "outputs": [
    {
     "data": {
      "text/plain": [
       "True"
      ]
     },
     "execution_count": 2,
     "metadata": {},
     "output_type": "execute_result"
    }
   ],
   "source": [
    "load_dotenv('../.venv/.env')"
   ]
  },
  {
   "cell_type": "markdown",
   "metadata": {},
   "source": [
    "**Retrieve database connection details from environment variables**"
   ]
  },
  {
   "cell_type": "code",
   "execution_count": 3,
   "metadata": {},
   "outputs": [],
   "source": [
    "db_user = os.getenv('DB_USER')\n",
    "db_password = os.getenv('DB_PASSWORD')\n",
    "db_host = os.getenv('DB_HOST')\n",
    "db_port = os.getenv('DB_PORT')\n",
    "db_name = os.getenv('DB_NAME')\n",
    "table_name = 'xdr_data'"
   ]
  },
  {
   "cell_type": "markdown",
   "metadata": {},
   "source": [
    "**Create a connection string**"
   ]
  },
  {
   "cell_type": "code",
   "execution_count": 4,
   "metadata": {},
   "outputs": [],
   "source": [
    "connection_string = f'postgresql+psycopg2://{db_user}:{db_password}@{db_host}:{db_port}/{db_name}'\n",
    "engine = create_engine(connection_string)"
   ]
  },
  {
   "cell_type": "code",
   "execution_count": 5,
   "metadata": {},
   "outputs": [],
   "source": [
    "\n",
    "# Query the table to verify the write\n",
    "query = 'SELECT * FROM xdr_data'\n",
    "data = pd.read_sql(query, engine)"
   ]
  },
  {
   "cell_type": "markdown",
   "metadata": {},
   "source": [
    "** **"
   ]
  },
  {
   "cell_type": "code",
   "execution_count": 6,
   "metadata": {},
   "outputs": [
    {
     "name": "stdout",
     "output_type": "stream",
     "text": [
      "<bound method NDFrame.head of            Bearer Id            Start  Start ms              End     End ms  \\\n",
      "0       1.311448e+19   4/4/2019 12:01  770.0000  4/25/2019 14:35  662.00000   \n",
      "1       1.311448e+19   4/9/2019 13:04  235.0000   4/25/2019 8:15  606.00000   \n",
      "2       1.311448e+19   4/9/2019 17:42    1.0000  4/25/2019 11:58  652.00000   \n",
      "3       1.311448e+19   4/10/2019 0:31  486.0000   4/25/2019 7:36  171.00000   \n",
      "4       1.311448e+19  4/12/2019 20:10  565.0000  4/25/2019 10:40  954.00000   \n",
      "...              ...              ...       ...              ...        ...   \n",
      "149996  7.277826e+18   4/29/2019 7:28  451.0000   4/30/2019 6:02  214.00000   \n",
      "149997  7.349883e+18   4/29/2019 7:28  483.0000  4/30/2019 10:41  187.00000   \n",
      "149998  1.311448e+19   4/29/2019 7:28  283.0000  4/30/2019 10:46  810.00000   \n",
      "149999  1.311448e+19   4/29/2019 7:28  696.0000  4/30/2019 10:40  327.00000   \n",
      "150000  1.013887e+19              N/A  499.1882              N/A  498.80088   \n",
      "\n",
      "           Dur. (ms)          IMSI  MSISDN/Number          IMEI  \\\n",
      "0       1.823652e+06  2.082014e+14   3.366496e+10  3.552121e+13   \n",
      "1       1.365104e+06  2.082019e+14   3.368185e+10  3.579401e+13   \n",
      "2       1.361762e+06  2.082003e+14   3.376063e+10  3.528151e+13   \n",
      "3       1.321509e+06  2.082014e+14   3.375034e+10  3.535661e+13   \n",
      "4       1.089009e+06  2.082014e+14   3.369980e+10  3.540701e+13   \n",
      "...              ...           ...            ...           ...   \n",
      "149996  8.123000e+04  2.082022e+14   3.365069e+10  3.548311e+13   \n",
      "149997  9.797000e+04  2.082019e+14   3.366345e+10  3.566051e+13   \n",
      "149998  9.824900e+04  2.082017e+14   3.362189e+10  3.572121e+13   \n",
      "149999  9.791000e+04  2.082021e+14   3.361962e+10  8.618620e+13   \n",
      "150000  1.046086e+05  2.082016e+14   4.188282e+10  4.847455e+13   \n",
      "\n",
      "           Last Location Name  ...  Youtube DL (Bytes)  Youtube UL (Bytes)  \\\n",
      "0       9.16456699548519E+015  ...        1.585461e+07        2.501332e+06   \n",
      "1                     L77566A  ...        2.024740e+07        1.911173e+07   \n",
      "2                     D42335A  ...        1.972566e+07        1.469958e+07   \n",
      "3                     T21824A  ...        2.138812e+07        1.514664e+07   \n",
      "4                     D88865A  ...        1.525938e+07        1.896287e+07   \n",
      "...                       ...  ...                 ...                 ...   \n",
      "149996                D20434A  ...        1.619167e+07        1.176343e+07   \n",
      "149997                D10223C  ...        1.387723e+07        8.288284e+06   \n",
      "149998                T51102A  ...        2.266051e+07        1.855903e+06   \n",
      "149999                L88342B  ...        8.817106e+06        8.305402e+06   \n",
      "150000                    N/A  ...        1.163407e+07        1.100941e+07   \n",
      "\n",
      "        Netflix DL (Bytes)  Netflix UL (Bytes)  Gaming DL (Bytes)  \\\n",
      "0             8.198936e+06        9.656251e+06       2.780823e+08   \n",
      "1             1.833841e+07        1.722713e+07       6.087501e+08   \n",
      "2             1.758779e+07        6.163408e+06       2.295846e+08   \n",
      "3             1.399465e+07        1.097942e+06       7.995382e+08   \n",
      "4             1.712458e+07        4.152180e+05       5.277072e+08   \n",
      "...                    ...                 ...                ...   \n",
      "149996        1.788370e+07        1.967816e+07       5.266097e+08   \n",
      "149997        1.935015e+07        2.129315e+07       6.268931e+08   \n",
      "149998        9.963942e+06        5.065760e+06       5.535395e+08   \n",
      "149999        3.322253e+06        1.317259e+07       3.525370e+08   \n",
      "150000        1.162685e+07        1.100175e+07       4.220447e+08   \n",
      "\n",
      "        Gaming UL (Bytes)  Other DL (Bytes)  Other UL (Bytes)  \\\n",
      "0            1.434415e+07      1.717444e+08      8.814393e+06   \n",
      "1            1.170709e+06      5.269042e+08      1.505514e+07   \n",
      "2            3.956300e+05      4.106926e+08      4.215763e+06   \n",
      "3            1.084972e+07      7.490399e+08      1.279728e+07   \n",
      "4            3.529801e+06      5.507095e+08      1.391032e+07   \n",
      "...                   ...               ...               ...   \n",
      "149996       9.197207e+06      3.264510e+06      1.348742e+07   \n",
      "149997       4.735033e+06      7.121804e+08      2.457758e+06   \n",
      "149998       1.339432e+07      1.211009e+08      1.131473e+07   \n",
      "149999       2.529475e+06      8.147131e+08      1.406930e+06   \n",
      "150000       8.288398e+06      4.211005e+08      8.264799e+06   \n",
      "\n",
      "        Total UL (Bytes)  Total DL (Bytes)  \n",
      "0           3.674974e+07      3.088796e+08  \n",
      "1           5.380039e+07      6.533850e+08  \n",
      "2           2.788364e+07      2.798073e+08  \n",
      "3           4.332422e+07      8.460285e+08  \n",
      "4           3.854281e+07      5.691386e+08  \n",
      "...                  ...               ...  \n",
      "149996      5.762885e+07      5.741753e+08  \n",
      "149997      3.913508e+07      6.666488e+08  \n",
      "149998      3.491222e+07      5.927864e+08  \n",
      "149999      2.962610e+07      3.718959e+08  \n",
      "150000      4.112121e+07      4.546434e+08  \n",
      "\n",
      "[150001 rows x 55 columns]>\n"
     ]
    }
   ],
   "source": [
    "print(data.head)"
   ]
  },
  {
   "cell_type": "code",
   "execution_count": 7,
   "metadata": {},
   "outputs": [
    {
     "name": "stdout",
     "output_type": "stream",
     "text": [
      "<class 'pandas.core.frame.DataFrame'>\n",
      "RangeIndex: 150001 entries, 0 to 150000\n",
      "Data columns (total 55 columns):\n",
      " #   Column                                    Non-Null Count   Dtype  \n",
      "---  ------                                    --------------   -----  \n",
      " 0   Bearer Id                                 150001 non-null  float64\n",
      " 1   Start                                     150001 non-null  object \n",
      " 2   Start ms                                  150001 non-null  float64\n",
      " 3   End                                       150001 non-null  object \n",
      " 4   End ms                                    150001 non-null  float64\n",
      " 5   Dur. (ms)                                 150001 non-null  float64\n",
      " 6   IMSI                                      150001 non-null  float64\n",
      " 7   MSISDN/Number                             150001 non-null  float64\n",
      " 8   IMEI                                      150001 non-null  float64\n",
      " 9   Last Location Name                        150001 non-null  object \n",
      " 10  Avg RTT DL (ms)                           150001 non-null  float64\n",
      " 11  Avg RTT UL (ms)                           150001 non-null  float64\n",
      " 12  Avg Bearer TP DL (kbps)                   150001 non-null  float64\n",
      " 13  Avg Bearer TP UL (kbps)                   150001 non-null  float64\n",
      " 14  TCP DL Retrans. Vol (Bytes)               150001 non-null  float64\n",
      " 15  TCP UL Retrans. Vol (Bytes)               150001 non-null  float64\n",
      " 16  DL TP < 50 Kbps (%)                       150001 non-null  float64\n",
      " 17  50 Kbps < DL TP < 250 Kbps (%)            150001 non-null  float64\n",
      " 18  250 Kbps < DL TP < 1 Mbps (%)             150001 non-null  float64\n",
      " 19  DL TP > 1 Mbps (%)                        150001 non-null  float64\n",
      " 20  UL TP < 10 Kbps (%)                       150001 non-null  float64\n",
      " 21  10 Kbps < UL TP < 50 Kbps (%)             150001 non-null  float64\n",
      " 22  50 Kbps < UL TP < 300 Kbps (%)            150001 non-null  float64\n",
      " 23  UL TP > 300 Kbps (%)                      150001 non-null  float64\n",
      " 24  HTTP DL (Bytes)                           150001 non-null  float64\n",
      " 25  HTTP UL (Bytes)                           150001 non-null  float64\n",
      " 26  Activity Duration DL (ms)                 150001 non-null  float64\n",
      " 27  Activity Duration UL (ms)                 150001 non-null  float64\n",
      " 28  Dur. (ms).1                               150001 non-null  float64\n",
      " 29  Handset Manufacturer                      150001 non-null  object \n",
      " 30  Handset Type                              150001 non-null  object \n",
      " 31  Nb of sec with 125000B < Vol DL           150001 non-null  float64\n",
      " 32  Nb of sec with 1250B < Vol UL < 6250B     150001 non-null  float64\n",
      " 33  Nb of sec with 31250B < Vol DL < 125000B  150001 non-null  float64\n",
      " 34  Nb of sec with 37500B < Vol UL            150001 non-null  float64\n",
      " 35  Nb of sec with 6250B < Vol DL < 31250B    150001 non-null  float64\n",
      " 36  Nb of sec with 6250B < Vol UL < 37500B    150001 non-null  float64\n",
      " 37  Nb of sec with Vol DL < 6250B             150001 non-null  float64\n",
      " 38  Nb of sec with Vol UL < 1250B             150001 non-null  float64\n",
      " 39  Social Media DL (Bytes)                   150001 non-null  float64\n",
      " 40  Social Media UL (Bytes)                   150001 non-null  float64\n",
      " 41  Google DL (Bytes)                         150001 non-null  float64\n",
      " 42  Google UL (Bytes)                         150001 non-null  float64\n",
      " 43  Email DL (Bytes)                          150001 non-null  float64\n",
      " 44  Email UL (Bytes)                          150001 non-null  float64\n",
      " 45  Youtube DL (Bytes)                        150001 non-null  float64\n",
      " 46  Youtube UL (Bytes)                        150001 non-null  float64\n",
      " 47  Netflix DL (Bytes)                        150001 non-null  float64\n",
      " 48  Netflix UL (Bytes)                        150001 non-null  float64\n",
      " 49  Gaming DL (Bytes)                         150001 non-null  float64\n",
      " 50  Gaming UL (Bytes)                         150001 non-null  float64\n",
      " 51  Other DL (Bytes)                          150001 non-null  float64\n",
      " 52  Other UL (Bytes)                          150001 non-null  float64\n",
      " 53  Total UL (Bytes)                          150001 non-null  float64\n",
      " 54  Total DL (Bytes)                          150001 non-null  float64\n",
      "dtypes: float64(50), object(5)\n",
      "memory usage: 62.9+ MB\n",
      "None\n"
     ]
    }
   ],
   "source": [
    "print(data.info())"
   ]
  },
  {
   "cell_type": "markdown",
   "metadata": {},
   "source": [
    "**Experience Analytics**"
   ]
  },
  {
   "cell_type": "markdown",
   "metadata": {},
   "source": [
    "**Aggregate metrics per customer**"
   ]
  },
  {
   "cell_type": "code",
   "execution_count": 8,
   "metadata": {},
   "outputs": [
    {
     "data": {
      "text/html": [
       "<div>\n",
       "<style scoped>\n",
       "    .dataframe tbody tr th:only-of-type {\n",
       "        vertical-align: middle;\n",
       "    }\n",
       "\n",
       "    .dataframe tbody tr th {\n",
       "        vertical-align: top;\n",
       "    }\n",
       "\n",
       "    .dataframe thead th {\n",
       "        text-align: right;\n",
       "    }\n",
       "</style>\n",
       "<table border=\"1\" class=\"dataframe\">\n",
       "  <thead>\n",
       "    <tr style=\"text-align: right;\">\n",
       "      <th></th>\n",
       "      <th>IMSI</th>\n",
       "      <th>Handset Type</th>\n",
       "      <th>Total_TCP</th>\n",
       "      <th>Total_RTT</th>\n",
       "      <th>Total_Throughput</th>\n",
       "    </tr>\n",
       "  </thead>\n",
       "  <tbody>\n",
       "    <tr>\n",
       "      <th>0</th>\n",
       "      <td>2.040471e+14</td>\n",
       "      <td>Quectel Wireless. Quectel Ec21-E</td>\n",
       "      <td>2.156957e+07</td>\n",
       "      <td>127.458589</td>\n",
       "      <td>2.0</td>\n",
       "    </tr>\n",
       "    <tr>\n",
       "      <th>1</th>\n",
       "      <td>2.040808e+14</td>\n",
       "      <td>Quectel Wireless. Quectel Ec25-E</td>\n",
       "      <td>2.156957e+07</td>\n",
       "      <td>127.458589</td>\n",
       "      <td>1.0</td>\n",
       "    </tr>\n",
       "    <tr>\n",
       "      <th>2</th>\n",
       "      <td>2.082001e+14</td>\n",
       "      <td>Dn Electronics Danew Konnect 350</td>\n",
       "      <td>7.623557e+05</td>\n",
       "      <td>303.000000</td>\n",
       "      <td>109.0</td>\n",
       "    </tr>\n",
       "    <tr>\n",
       "      <th>3</th>\n",
       "      <td>2.082001e+14</td>\n",
       "      <td>Samsung Galaxy Grand (Gt-I9060X)</td>\n",
       "      <td>2.797900e+04</td>\n",
       "      <td>84.000000</td>\n",
       "      <td>754.0</td>\n",
       "    </tr>\n",
       "    <tr>\n",
       "      <th>4</th>\n",
       "      <td>2.082001e+14</td>\n",
       "      <td>Apple iPhone 6S (A1688)</td>\n",
       "      <td>2.156957e+07</td>\n",
       "      <td>92.000000</td>\n",
       "      <td>80.5</td>\n",
       "    </tr>\n",
       "  </tbody>\n",
       "</table>\n",
       "</div>"
      ],
      "text/plain": [
       "           IMSI                      Handset Type     Total_TCP   Total_RTT  \\\n",
       "0  2.040471e+14  Quectel Wireless. Quectel Ec21-E  2.156957e+07  127.458589   \n",
       "1  2.040808e+14  Quectel Wireless. Quectel Ec25-E  2.156957e+07  127.458589   \n",
       "2  2.082001e+14  Dn Electronics Danew Konnect 350  7.623557e+05  303.000000   \n",
       "3  2.082001e+14  Samsung Galaxy Grand (Gt-I9060X)  2.797900e+04   84.000000   \n",
       "4  2.082001e+14           Apple iPhone 6S (A1688)  2.156957e+07   92.000000   \n",
       "\n",
       "   Total_Throughput  \n",
       "0               2.0  \n",
       "1               1.0  \n",
       "2             109.0  \n",
       "3             754.0  \n",
       "4              80.5  "
      ]
     },
     "execution_count": 8,
     "metadata": {},
     "output_type": "execute_result"
    }
   ],
   "source": [
    "# Aggregate per customer\n",
    "aggregated_data = data.groupby('IMSI').agg({\n",
    "    'TCP DL Retrans. Vol (Bytes)': 'mean',\n",
    "    'TCP UL Retrans. Vol (Bytes)': 'mean',\n",
    "    'Avg RTT DL (ms)': 'mean',\n",
    "    'Avg RTT UL (ms)': 'mean',\n",
    "    'Avg Bearer TP DL (kbps)': 'mean',\n",
    "    'Avg Bearer TP UL (kbps)': 'mean',\n",
    "    'Handset Type': lambda x: x.mode()[0]\n",
    "}).reset_index()\n",
    "\n",
    "# Calculate total TCP retransmission, RTT, and throughput\n",
    "aggregated_data['Total_TCP'] = (aggregated_data['TCP DL Retrans. Vol (Bytes)'] + aggregated_data['TCP UL Retrans. Vol (Bytes)'])\n",
    "aggregated_data['Total_RTT'] = (aggregated_data['Avg RTT DL (ms)'] + aggregated_data['Avg RTT UL (ms)'])\n",
    "aggregated_data['Total_Throughput'] = (aggregated_data['Avg Bearer TP DL (kbps)'] + aggregated_data['Avg Bearer TP UL (kbps)'])\n",
    "\n",
    "# Drop the intermediary columns\n",
    "aggregated_data = aggregated_data.drop(columns=[\n",
    "    'TCP DL Retrans. Vol (Bytes)',\n",
    "    'TCP UL Retrans. Vol (Bytes)',\n",
    "    'Avg RTT DL (ms)',\n",
    "    'Avg RTT UL (ms)',\n",
    "    'Avg Bearer TP DL (kbps)',\n",
    "    'Avg Bearer TP UL (kbps)'\n",
    "])\n",
    "\n",
    "aggregated_data.head()"
   ]
  },
  {
   "cell_type": "markdown",
   "metadata": {},
   "source": [
    "**list 10 of the top, bottom, and most frequent:**"
   ]
  },
  {
   "cell_type": "code",
   "execution_count": 9,
   "metadata": {},
   "outputs": [
    {
     "name": "stdout",
     "output_type": "stream",
     "text": [
      "\n",
      "Total TCP Stats\n",
      "\n",
      "Top 10 values:\n",
      "0    4.301477e+09\n",
      "1    4.288121e+09\n",
      "2    4.268647e+09\n",
      "3    4.254660e+09\n",
      "4    4.211258e+09\n",
      "5    4.166595e+09\n",
      "6    4.137938e+09\n",
      "7    4.117805e+09\n",
      "8    3.968121e+09\n",
      "9    3.786871e+09\n",
      "Name: Total_TCP, dtype: float64\n",
      "\n",
      "Bottom 10 values:\n",
      "0     97.0\n",
      "1    128.0\n",
      "2    129.0\n",
      "3    134.0\n",
      "4    143.0\n",
      "5    176.0\n",
      "6    176.0\n",
      "7    177.0\n",
      "8    179.0\n",
      "9    182.0\n",
      "Name: Total_TCP, dtype: float64\n",
      "\n",
      "Most Frequent values:\n",
      "0    2.156957e+07\n",
      "Name: Total_TCP, dtype: float64\n",
      "\n",
      "Total RTT Stats\n",
      "\n",
      "Top 10 values:\n",
      "0    96924.0\n",
      "1    54848.0\n",
      "2    32335.0\n",
      "3    27278.0\n",
      "4    26300.0\n",
      "5    25715.0\n",
      "6    25388.0\n",
      "7    24738.0\n",
      "8    23010.5\n",
      "9    20980.0\n",
      "Name: Total_RTT, dtype: float64\n",
      "\n",
      "Bottom 10 values:\n",
      "0     0.0\n",
      "1     0.0\n",
      "2     2.0\n",
      "3     4.0\n",
      "4     5.0\n",
      "5     6.0\n",
      "6     8.0\n",
      "7     9.0\n",
      "8     9.0\n",
      "9    10.0\n",
      "Name: Total_RTT, dtype: float64\n",
      "\n",
      "Most Frequent values:\n",
      "0    127.458589\n",
      "Name: Total_RTT, dtype: float64\n",
      "\n",
      "Total Throughput Stats\n",
      "\n",
      "Top 10 values:\n",
      "0    283931.0\n",
      "1    265724.0\n",
      "2    265176.5\n",
      "3    254950.0\n",
      "4    238982.0\n",
      "5    235365.0\n",
      "6    230982.0\n",
      "7    228303.0\n",
      "8    227334.0\n",
      "9    226505.0\n",
      "Name: Total_Throughput, dtype: float64\n",
      "\n",
      "Bottom 10 values:\n",
      "0    0.0\n",
      "1    0.0\n",
      "2    0.0\n",
      "3    0.0\n",
      "4    0.0\n",
      "5    0.0\n",
      "6    0.0\n",
      "7    0.0\n",
      "8    0.0\n",
      "9    0.0\n",
      "Name: Total_Throughput, dtype: float64\n",
      "\n",
      "Most Frequent values:\n",
      "0    15.0\n",
      "Name: Total_Throughput, dtype: float64\n"
     ]
    }
   ],
   "source": [
    "def compute_top_bottom_frequent(data, column, top_n=10):\n",
    "    top_values = data[column].nlargest(top_n).reset_index(drop=True)\n",
    "    bottom_values = data[column].nsmallest(top_n).reset_index(drop=True)\n",
    "    most_frequent_values = data[column].mode()\n",
    "    \n",
    "    # If there are fewer than top_n most frequent values, adjust\n",
    "    if len(most_frequent_values) > top_n:\n",
    "        most_frequent_values = most_frequent_values.head(top_n)\n",
    "    \n",
    "    return {\n",
    "        'top': top_values,\n",
    "        'bottom': bottom_values,\n",
    "        'most_frequent': most_frequent_values\n",
    "    }\n",
    "\n",
    "# Compute statistics for each metric\n",
    "tcp_stats = compute_top_bottom_frequent(aggregated_data, 'Total_TCP')\n",
    "rtt_stats = compute_top_bottom_frequent(aggregated_data, 'Total_RTT')\n",
    "throughput_stats = compute_top_bottom_frequent(aggregated_data, 'Total_Throughput')\n",
    "\n",
    "# Function to print the results in a readable format\n",
    "def print_stats(stats, title):\n",
    "    print(f\"\\n{title}\")\n",
    "    print(\"\\nTop 10 values:\")\n",
    "    print(stats['top'])\n",
    "    print(\"\\nBottom 10 values:\")\n",
    "    print(stats['bottom'])\n",
    "    print(\"\\nMost Frequent values:\")\n",
    "    print(stats['most_frequent'])\n",
    "\n",
    "# Print the results for each metric\n",
    "print_stats(tcp_stats, \"Total TCP Stats\")\n",
    "print_stats(rtt_stats, \"Total RTT Stats\")\n",
    "print_stats(throughput_stats, \"Total Throughput Stats\")"
   ]
  },
  {
   "cell_type": "markdown",
   "metadata": {},
   "source": [
    "**The distribution of the average throughput per handset type**"
   ]
  },
  {
   "cell_type": "code",
   "execution_count": 13,
   "metadata": {},
   "outputs": [
    {
     "name": "stdout",
     "output_type": "stream",
     "text": [
      "\n",
      "Top 10 Average Throughput per Handset Type:\n",
      "\n",
      "Handset Type\n",
      "Huawei B715S-23C               109866.800000\n",
      "New-Bund Technol. Mix 2        105211.000000\n",
      "Lg G6+                         100135.000000\n",
      "Zyxel Communicat. Sbg3600       97351.000000\n",
      "Huawei Y9 2019                  91739.000000\n",
      "Xiaomi Communica. M1902F1G      85613.666667\n",
      "Spa Condor Elect. Allure M2     84311.500000\n",
      "Ovvi-Cellphone T. Echo          78953.000000\n",
      "Huawei Pele                     78381.000000\n",
      "Spa Condor Elect. Plume L2      76529.000000\n",
      "Name: Total_Throughput, dtype: float64\n"
     ]
    }
   ],
   "source": [
    "def report_distribution(df, group_col, value_col, top_n=10):\n",
    "    distribution = df.groupby(group_col)[value_col].mean()\n",
    "    top_distribution = distribution.sort_values(ascending=False).head(top_n)\n",
    "    return top_distribution\n",
    "\n",
    "throughput_distribution = report_distribution(aggregated_data, 'Handset Type', 'Total_Throughput')\n",
    "\n",
    "print(\"\\nTop 10 Average Throughput per Handset Type:\\n\")\n",
    "print(throughput_distribution)"
   ]
  },
  {
   "cell_type": "markdown",
   "metadata": {},
   "source": [
    "**Average TCP per handset**"
   ]
  },
  {
   "cell_type": "code",
   "execution_count": 15,
   "metadata": {},
   "outputs": [
    {
     "name": "stdout",
     "output_type": "stream",
     "text": [
      "\n",
      "Top 10 Average TCP Retransmission per Handset Type:\n",
      "\n",
      "Handset Type\n",
      "Lg Lg-H635                                   9.125491e+08\n",
      "Huawei Bln-Al10                              3.291746e+08\n",
      "Asustek Asus Zenfone Selfie Zd551Kl          3.216583e+08\n",
      "Huawei E5776S-32                             2.022908e+08\n",
      "Apple iPad Pro (A1652)                       1.280664e+08\n",
      "Samsung Galaxy Tab S3 (Sm-T825)              1.269133e+08\n",
      "Samsung Galaxy J8 2018                       1.157583e+08\n",
      "Dynamic Tech Hol. D-Mobile I3 I5 I7 I8 I9    1.038173e+08\n",
      "Xiaomi Communica. Mi 6                       7.538708e+07\n",
      "Huawei E5573                                 6.788394e+07\n",
      "Name: Total_TCP, dtype: float64\n"
     ]
    }
   ],
   "source": [
    "def report_distribution(df, group_col, value_col, top_n=10):\n",
    "    distribution = df.groupby(group_col)[value_col].mean()\n",
    "    top_distribution = distribution.sort_values(ascending=False).head(top_n)\n",
    "    return top_distribution\n",
    "\n",
    "\n",
    "tcp_distribution = report_distribution(aggregated_data, 'Handset Type', 'Total_TCP')\n",
    "\n",
    "print(\"\\nTop 10 Average TCP Retransmission per Handset Type:\\n\")\n",
    "print(tcp_distribution)"
   ]
  },
  {
   "cell_type": "markdown",
   "metadata": {},
   "source": [
    "**k-means clustering**"
   ]
  },
  {
   "cell_type": "code",
   "execution_count": 18,
   "metadata": {},
   "outputs": [
    {
     "name": "stdout",
     "output_type": "stream",
     "text": [
      "\n",
      "Cluster Descriptions:\n",
      "                 IMSI     Total_TCP   Total_RTT  Total_Throughput  cluster\n",
      "cluster                                                                   \n",
      "0        2.082016e+14  1.658608e+07  134.636309      13041.928870      0.0\n",
      "1        2.082016e+14  2.969075e+09  144.058442      71035.179654      1.0\n",
      "2        2.082016e+14  1.141648e+09  153.469019      68208.631271      2.0\n"
     ]
    }
   ],
   "source": [
    "# Select features\n",
    "features = aggregated_data[['Total_TCP', 'Total_RTT', 'Total_Throughput']]\n",
    "\n",
    "# Apply KMeans clustering\n",
    "kmeans = KMeans(n_clusters=3, random_state=0)\n",
    "kmeans.fit(features)\n",
    "aggregated_data['cluster'] = kmeans.labels_\n",
    "\n",
    "numeric_cols = aggregated_data.select_dtypes(include='number').columns\n",
    "\n",
    "\n",
    "# Describe each cluster with only numeric columns\n",
    "cluster_description = aggregated_data.groupby('cluster')[numeric_cols].mean()\n",
    "print(\"\\nCluster Descriptions:\")\n",
    "print(cluster_description)"
   ]
  }
 ],
 "metadata": {
  "kernelspec": {
   "display_name": ".venv",
   "language": "python",
   "name": "python3"
  },
  "language_info": {
   "codemirror_mode": {
    "name": "ipython",
    "version": 3
   },
   "file_extension": ".py",
   "mimetype": "text/x-python",
   "name": "python",
   "nbconvert_exporter": "python",
   "pygments_lexer": "ipython3",
   "version": "3.12.5"
  }
 },
 "nbformat": 4,
 "nbformat_minor": 2
}
